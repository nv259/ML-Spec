{
 "cells": [
  {
   "cell_type": "markdown",
   "metadata": {},
   "source": [
    "# Deep Q-Learning - Lunar Lander\n",
    "\n",
    "In this assignment, you will train an agent to land a lunar lander safely on a landing pad on the surface of the moon.\n",
    "\n",
    "\n",
    "# Outline\n",
    "- [ 1 - Import Packages <img align=\"Right\" src=\"./images/lunar_lander.gif\" width = 60% >](#1)\n",
    "- [ 2 - Hyperparameters](#2)\n",
    "- [ 3 - The Lunar Lander Environment](#3)\n",
    "  - [ 3.1 Action Space](#3.1)\n",
    "  - [ 3.2 Observation Space](#3.2)\n",
    "  - [ 3.3 Rewards](#3.3)\n",
    "  - [ 3.4 Episode Termination](#3.4)\n",
    "- [ 4 - Load the Environment](#4)\n",
    "- [ 5 - Interacting with the Gym Environment](#5)\n",
    "    - [ 5.1 Exploring the Environment's Dynamics](#5.1)\n",
    "- [ 6 - Deep Q-Learning](#6)\n",
    "  - [ 6.1 Target Network](#6.1)\n",
    "    - [ Exercise 1](#ex01)\n",
    "  - [ 6.2 Experience Replay](#6.2)\n",
    "- [ 7 - Deep Q-Learning Algorithm with Experience Replay](#7)\n",
    "  - [ Exercise 2](#ex02)\n",
    "- [ 8 - Update the Network Weights](#8)\n",
    "- [ 9 - Train the Agent](#9)\n",
    "- [ 10 - See the Trained Agent In Action](#10)\n",
    "- [ 11 - Congratulations!](#11)\n",
    "- [ 12 - References](#12)\n"
   ]
  },
  {
   "cell_type": "markdown",
   "metadata": {},
   "source": [
    "_**NOTE:** To prevent errors from the autograder, you are not allowed to edit or delete non-graded cells in this lab. Please also refrain from adding any new cells. \n",
    "**Once you have passed this assignment** and want to experiment with any of the non-graded code, you may follow the instructions at the bottom of this notebook._"
   ]
  },
  {
   "cell_type": "markdown",
   "metadata": {},
   "source": [
    "<a name=\"1\"></a>\n",
    "## 1 - Import Packages\n",
    "\n",
    "We'll make use of the following packages:\n",
    "- `numpy` is a package for scientific computing in python.\n",
    "- `deque` will be our data structure for our memory buffer.\n",
    "- `namedtuple` will be used to store the experience tuples.\n",
    "- The `gym` toolkit is a collection of environments that can be used to test reinforcement learning algorithms. We should note that in this notebook we are using `gym` version `0.24.0`.\n",
    "- `PIL.Image` and `pyvirtualdisplay` are needed to render the Lunar Lander environment.\n",
    "- We will use several modules from the `tensorflow.keras` framework for building deep learning models.\n",
    "- `utils` is a module that contains helper functions for this assignment. You do not need to modify the code in this file.\n",
    "\n",
    "Run the cell below to import all the necessary packages."
   ]
  },
  {
   "cell_type": "code",
   "execution_count": 1,
   "metadata": {
    "deletable": false,
    "editable": false,
    "id": "KYbOPKRtfQOr"
   },
   "outputs": [],
   "source": [
    "import time\n",
    "from collections import deque, namedtuple\n",
    "\n",
    "import gym\n",
    "import numpy as np\n",
    "import PIL.Image\n",
    "import tensorflow as tf\n",
    "import utils\n",
    "\n",
    "from pyvirtualdisplay import Display\n",
    "from tensorflow.keras import Sequential\n",
    "from tensorflow.keras.layers import Dense, Input\n",
    "from tensorflow.keras.losses import MSE\n",
    "from tensorflow.keras.optimizers import Adam"
   ]
  },
  {
   "cell_type": "code",
   "execution_count": 2,
   "metadata": {
    "deletable": false,
    "editable": false
   },
   "outputs": [],
   "source": [
    "# Set up a virtual display to render the Lunar Lander environment.\n",
    "Display(visible=0, size=(840, 480)).start();\n",
    "\n",
    "# Set the random seed for TensorFlow\n",
    "tf.random.set_seed(utils.SEED)"
   ]
  },
  {
   "cell_type": "markdown",
   "metadata": {},
   "source": [
    "<a name=\"2\"></a>\n",
    "## 2 - Hyperparameters\n",
    "\n",
    "Run the cell below to set the hyperparameters."
   ]
  },
  {
   "cell_type": "code",
   "execution_count": 3,
   "metadata": {
    "deletable": false,
    "editable": false
   },
   "outputs": [],
   "source": [
    "MEMORY_SIZE = 100_000     # size of memory buffer\n",
    "GAMMA = 0.995             # discount factor\n",
    "ALPHA = 1e-3              # learning rate  \n",
    "NUM_STEPS_FOR_UPDATE = 4  # perform a learning update every C time steps"
   ]
  },
  {
   "cell_type": "markdown",
   "metadata": {},
   "source": [
    "<a name=\"3\"></a>\n",
    "## 3 - The Lunar Lander Environment\n",
    "\n",
    "In this notebook we will be using [OpenAI's Gym Library](https://www.gymlibrary.dev/). The Gym library provides a wide variety of environments for reinforcement learning. To put it simply, an environment represents a problem or task to be solved. In this notebook, we will try to solve the Lunar Lander environment using reinforcement learning.\n",
    "\n",
    "The goal of the Lunar Lander environment is to land the lunar lander safely on the landing pad on the surface of the moon. The landing pad is designated by two flag poles and its center is at coordinates `(0,0)` but the lander is also allowed to land outside of the landing pad. The lander starts at the top center of the environment with a random initial force applied to its center of mass and has infinite fuel. The environment is considered solved if you get `200` points. \n",
    "\n",
    "<br>\n",
    "<br>\n",
    "<figure>\n",
    "  <img src = \"images/lunar_lander.gif\" width = 40%>\n",
    "      <figcaption style = \"text-align: center; font-style: italic\">Fig 1. Lunar Lander Environment.</figcaption>\n",
    "</figure>\n",
    "\n",
    "\n",
    "\n",
    "<a name=\"3.1\"></a>\n",
    "### 3.1 Action Space\n",
    "\n",
    "The agent has four discrete actions available:\n",
    "\n",
    "* Do nothing.\n",
    "* Fire right engine.\n",
    "* Fire main engine.\n",
    "* Fire left engine.\n",
    "\n",
    "Each action has a corresponding numerical value:\n",
    "\n",
    "```python\n",
    "Do nothing = 0\n",
    "Fire right engine = 1\n",
    "Fire main engine = 2\n",
    "Fire left engine = 3\n",
    "```\n",
    "\n",
    "<a name=\"3.2\"></a>\n",
    "### 3.2 Observation Space\n",
    "\n",
    "The agent's observation space consists of a state vector with 8 variables:\n",
    "\n",
    "* Its $(x,y)$ coordinates. The landing pad is always at coordinates $(0,0)$.\n",
    "* Its linear velocities $(\\dot x,\\dot y)$.\n",
    "* Its angle $\\theta$.\n",
    "* Its angular velocity $\\dot \\theta$.\n",
    "* Two booleans, $l$ and $r$, that represent whether each leg is in contact with the ground or not.\n",
    "\n",
    "<a name=\"3.3\"></a>\n",
    "### 3.3 Rewards\n",
    "\n",
    "After every step, a reward is granted. The total reward of an episode is the sum of the rewards for all the steps within that episode.\n",
    "\n",
    "For each step, the reward:\n",
    "- is increased/decreased the closer/further the lander is to the landing pad.\n",
    "- is increased/decreased the slower/faster the lander is moving.\n",
    "- is decreased the more the lander is tilted (angle not horizontal).\n",
    "- is increased by 10 points for each leg that is in contact with the ground.\n",
    "- is decreased by 0.03 points each frame a side engine is firing.\n",
    "- is decreased by 0.3 points each frame the main engine is firing.\n",
    "\n",
    "The episode receives an additional reward of -100 or +100 points for crashing or landing safely respectively.\n",
    "\n",
    "<a name=\"3.4\"></a>\n",
    "### 3.4 Episode Termination\n",
    "\n",
    "An episode ends (i.e the environment enters a terminal state) if:\n",
    "\n",
    "* The lunar lander crashes (i.e if the body of the lunar lander comes in contact with the surface of the moon).\n",
    "\n",
    "* The absolute value of the lander's $x$-coordinate is greater than 1 (i.e. it goes beyond the left or right border)\n",
    "\n",
    "You can check out the [Open AI Gym documentation](https://www.gymlibrary.dev/environments/box2d/lunar_lander/) for a full description of the environment. "
   ]
  },
  {
   "cell_type": "markdown",
   "metadata": {},
   "source": [
    "<a name=\"4\"></a>\n",
    "## 4 - Load the Environment\n",
    "\n",
    "We start by loading the `LunarLander-v2` environment from the `gym` library by using the `.make()` method. `LunarLander-v2` is the latest version of the Lunar Lander environment and you can read about its version history in the [Open AI Gym documentation](https://www.gymlibrary.dev/environments/box2d/lunar_lander/#version-history)."
   ]
  },
  {
   "cell_type": "code",
   "execution_count": 4,
   "metadata": {
    "deletable": false,
    "editable": false,
    "id": "ILVMYKewfR0n"
   },
   "outputs": [],
   "source": [
    "env = gym.make('LunarLander-v2')"
   ]
  },
  {
   "cell_type": "markdown",
   "metadata": {},
   "source": [
    "Once we load the environment we use the `.reset()` method to reset the environment to the initial state. The lander starts at the top center of the environment and we can render the first frame of the environment by using the `.render()` method."
   ]
  },
  {
   "cell_type": "code",
   "execution_count": 5,
   "metadata": {
    "deletable": false,
    "editable": false
   },
   "outputs": [
    {
     "data": {
      "image/png": "[encoded data removed]",
      "text/plain": [
       "<PIL.Image.Image image mode=RGB size=600x400 at 0x7F9FD0A55F10>"
      ]
     },
     "execution_count": 5,
     "metadata": {},
     "output_type": "execute_result"
    }
   ],
   "source": [
    "env.reset()\n",
    "PIL.Image.fromarray(env.render(mode='rgb_array'))"
   ]
  },
  {
   "cell_type": "markdown",
   "metadata": {},
   "source": [
    "In order to build our neural network later on we need to know the size of the state vector and the number of valid actions. We can get this information from our environment by using the `.observation_space.shape` and `action_space.n` methods, respectively."
   ]
  },
  {
   "cell_type": "code",
   "execution_count": 6,
   "metadata": {
    "deletable": false,
    "editable": false,
    "id": "x3fdqdG4CUu2"
   },
   "outputs": [
    {
     "name": "stdout",
     "output_type": "stream",
     "text": [
      "State Shape: (8,)\n",
      "Number of actions: 4\n"
     ]
    }
   ],
   "source": [
    "state_size = env.observation_space.shape\n",
    "num_actions = env.action_space.n\n",
    "\n",
    "print('State Shape:', state_size)\n",
    "print('Number of actions:', num_actions)"
   ]
  },
  {
   "cell_type": "markdown",
   "metadata": {},
   "source": [
    "<a name=\"5\"></a>\n",
    "## 5 - Interacting with the Gym Environment\n",
    "\n",
    "The Gym library implements the standard “agent-environment loop” formalism:\n",
    "\n",
    "<br>\n",
    "<center>\n",
    "<video src = \"./videos/rl_formalism.m4v\" width=\"840\" height=\"480\" controls autoplay loop poster=\"./images/rl_formalism.png\"> </video>\n",
    "<figcaption style = \"text-align:center; font-style:italic\">Fig 2. Agent-environment Loop Formalism.</figcaption>\n",
    "</center>\n",
    "<br>\n",
    "\n",
    "In the standard “agent-environment loop” formalism, an agent interacts with the environment in discrete time steps $t=0,1,2,...$. At each time step $t$, the agent uses a policy $\\pi$ to select an action $A_t$ based on its observation of the environment's state $S_t$. The agent receives a numerical reward $R_t$ and on the next time step, moves to a new state $S_{t+1}$.\n",
    "\n",
    "<a name=\"5.1\"></a>\n",
    "### 5.1 Exploring the Environment's Dynamics\n",
    "\n",
    "In Open AI's Gym environments, we use the `.step()` method to run a single time step of the environment's dynamics. In the version of `gym` that we are using the `.step()` method accepts an action and returns four values:\n",
    "\n",
    "* `observation` (**object**): an environment-specific object representing your observation of the environment. In the Lunar Lander environment this corresponds to a numpy array containing the positions and velocities of the lander as described in section [3.2 Observation Space](#3.2).\n",
    "\n",
    "\n",
    "* `reward` (**float**): amount of reward returned as a result of taking the given action. In the Lunar Lander environment this corresponds to a float of type `numpy.float64` as described in section [3.3 Rewards](#3.3).\n",
    "\n",
    "\n",
    "* `done` (**boolean**): When done is `True`, it indicates the episode has terminated and it’s time to reset the environment. \n",
    "\n",
    "\n",
    "* `info` (**dictionary**): diagnostic information useful for debugging. We won't be using this variable in this notebook but it is shown here for completeness.\n",
    "\n",
    "To begin an episode, we need to reset the environment to an initial state. We do this by using the `.reset()` method. "
   ]
  },
  {
   "cell_type": "code",
   "execution_count": 7,
   "metadata": {
    "deletable": false,
    "editable": false
   },
   "outputs": [],
   "source": [
    "# Reset the environment and get the initial state.\n",
    "current_state = env.reset()"
   ]
  },
  {
   "cell_type": "markdown",
   "metadata": {},
   "source": [
    "Once the environment is reset, the agent can start taking actions in the environment by using the `.step()` method. Note that the agent can only take one action per time step. \n",
    "\n",
    "In the cell below you can select different actions and see how the returned values change depending on the action taken. Remember that in this environment the agent has four discrete actions available and we specify them in code by using their corresponding numerical value:\n",
    "\n",
    "```python\n",
    "Do nothing = 0\n",
    "Fire right engine = 1\n",
    "Fire main engine = 2\n",
    "Fire left engine = 3\n",
    "```"
   ]
  },
  {
   "cell_type": "code",
   "execution_count": 8,
   "metadata": {
    "deletable": false
   },
   "outputs": [
    {
     "data": {
      "text/html": [
       "<style  type=\"text/css\" >\n",
       "    #T_fdca5a34_e140_11ee_b09f_0242ac120046 th {\n",
       "          border: 1px solid grey;\n",
       "          text-align: center;\n",
       "    }    #T_fdca5a34_e140_11ee_b09f_0242ac120046 tbody td {\n",
       "          border: 1px solid grey;\n",
       "          text-align: center;\n",
       "    }    #T_fdca5a34_e140_11ee_b09f_0242ac120046row0_col0 {\n",
       "            background-color :  grey;\n",
       "        }    #T_fdca5a34_e140_11ee_b09f_0242ac120046row1_col1 {\n",
       "            background-color :  grey;\n",
       "        }    #T_fdca5a34_e140_11ee_b09f_0242ac120046row1_col2 {\n",
       "            background-color :  grey;\n",
       "        }    #T_fdca5a34_e140_11ee_b09f_0242ac120046row1_col3 {\n",
       "            background-color :  grey;\n",
       "        }    #T_fdca5a34_e140_11ee_b09f_0242ac120046row1_col4 {\n",
       "            background-color :  grey;\n",
       "        }    #T_fdca5a34_e140_11ee_b09f_0242ac120046row1_col5 {\n",
       "            background-color :  grey;\n",
       "        }    #T_fdca5a34_e140_11ee_b09f_0242ac120046row1_col6 {\n",
       "            background-color :  grey;\n",
       "        }    #T_fdca5a34_e140_11ee_b09f_0242ac120046row1_col7 {\n",
       "            background-color :  grey;\n",
       "        }    #T_fdca5a34_e140_11ee_b09f_0242ac120046row1_col8 {\n",
       "            background-color :  grey;\n",
       "        }    #T_fdca5a34_e140_11ee_b09f_0242ac120046row1_col9 {\n",
       "            background-color :  grey;\n",
       "        }    #T_fdca5a34_e140_11ee_b09f_0242ac120046row1_col10 {\n",
       "            background-color :  grey;\n",
       "        }    #T_fdca5a34_e140_11ee_b09f_0242ac120046row1_col11 {\n",
       "            background-color :  grey;\n",
       "        }    #T_fdca5a34_e140_11ee_b09f_0242ac120046row2_col0 {\n",
       "            background-color :  grey;\n",
       "        }    #T_fdca5a34_e140_11ee_b09f_0242ac120046row3_col1 {\n",
       "            background-color :  grey;\n",
       "        }    #T_fdca5a34_e140_11ee_b09f_0242ac120046row3_col2 {\n",
       "            background-color :  grey;\n",
       "        }    #T_fdca5a34_e140_11ee_b09f_0242ac120046row3_col3 {\n",
       "            background-color :  grey;\n",
       "        }    #T_fdca5a34_e140_11ee_b09f_0242ac120046row3_col4 {\n",
       "            background-color :  grey;\n",
       "        }    #T_fdca5a34_e140_11ee_b09f_0242ac120046row3_col5 {\n",
       "            background-color :  grey;\n",
       "        }    #T_fdca5a34_e140_11ee_b09f_0242ac120046row3_col6 {\n",
       "            background-color :  grey;\n",
       "        }    #T_fdca5a34_e140_11ee_b09f_0242ac120046row3_col7 {\n",
       "            background-color :  grey;\n",
       "        }    #T_fdca5a34_e140_11ee_b09f_0242ac120046row3_col8 {\n",
       "            background-color :  grey;\n",
       "        }    #T_fdca5a34_e140_11ee_b09f_0242ac120046row3_col9 {\n",
       "            background-color :  grey;\n",
       "        }    #T_fdca5a34_e140_11ee_b09f_0242ac120046row3_col10 {\n",
       "            background-color :  grey;\n",
       "        }    #T_fdca5a34_e140_11ee_b09f_0242ac120046row3_col11 {\n",
       "            background-color :  grey;\n",
       "        }    #T_fdca5a34_e140_11ee_b09f_0242ac120046row4_col1 {\n",
       "            background-color :  grey;\n",
       "        }    #T_fdca5a34_e140_11ee_b09f_0242ac120046row4_col2 {\n",
       "            background-color :  grey;\n",
       "        }    #T_fdca5a34_e140_11ee_b09f_0242ac120046row4_col3 {\n",
       "            background-color :  grey;\n",
       "        }    #T_fdca5a34_e140_11ee_b09f_0242ac120046row4_col4 {\n",
       "            background-color :  grey;\n",
       "        }    #T_fdca5a34_e140_11ee_b09f_0242ac120046row4_col5 {\n",
       "            background-color :  grey;\n",
       "        }    #T_fdca5a34_e140_11ee_b09f_0242ac120046row4_col6 {\n",
       "            background-color :  grey;\n",
       "        }    #T_fdca5a34_e140_11ee_b09f_0242ac120046row4_col7 {\n",
       "            background-color :  grey;\n",
       "        }    #T_fdca5a34_e140_11ee_b09f_0242ac120046row4_col8 {\n",
       "            background-color :  grey;\n",
       "        }    #T_fdca5a34_e140_11ee_b09f_0242ac120046row4_col9 {\n",
       "            background-color :  grey;\n",
       "        }    #T_fdca5a34_e140_11ee_b09f_0242ac120046row4_col10 {\n",
       "            background-color :  grey;\n",
       "        }    #T_fdca5a34_e140_11ee_b09f_0242ac120046row4_col11 {\n",
       "            background-color :  grey;\n",
       "        }</style><table id=\"T_fdca5a34_e140_11ee_b09f_0242ac120046\" ><thead>    <tr>        <th class=\"blank level0\" ></th>        <th class=\"col_heading level0 col0\" ></th>        <th class=\"col_heading level0 col1\" colspan=8>State Vector</th>        <th class=\"col_heading level0 col9\" colspan=3>Derived from the State Vector (the closer to zero, the better)</th>    </tr>    <tr>        <th class=\"blank level1\" ></th>        <th class=\"col_heading level1 col0\" ></th>        <th class=\"col_heading level1 col1\" colspan=2>Coordinate</th>        <th class=\"col_heading level1 col3\" colspan=2>Velocity</th>        <th class=\"col_heading level1 col5\" colspan=2>Tilting</th>        <th class=\"col_heading level1 col7\" colspan=2>Ground contact</th>        <th class=\"col_heading level1 col9\" >Distance from landing pad</th>        <th class=\"col_heading level1 col10\" >Velocity</th>        <th class=\"col_heading level1 col11\" >Tilting Angle (absolute value)</th>    </tr>    <tr>        <th class=\"blank level2\" ></th>        <th class=\"col_heading level2 col0\" ></th>        <th class=\"col_heading level2 col1\" >X (Horizontal)</th>        <th class=\"col_heading level2 col2\" >Y (Vertical)</th>        <th class=\"col_heading level2 col3\" >X (Horizontal)</th>        <th class=\"col_heading level2 col4\" >Y (Vertical)</th>        <th class=\"col_heading level2 col5\" >Angle</th>        <th class=\"col_heading level2 col6\" >Angular Velocity</th>        <th class=\"col_heading level2 col7\" >Left Leg?</th>        <th class=\"col_heading level2 col8\" >Right Leg?</th>        <th class=\"col_heading level2 col9\" ></th>        <th class=\"col_heading level2 col10\" ></th>        <th class=\"col_heading level2 col11\" ></th>    </tr></thead><tbody>\n",
       "                <tr>\n",
       "                        <th id=\"T_fdca5a34_e140_11ee_b09f_0242ac120046level0_row0\" class=\"row_heading level0 row0\" >Current State</th>\n",
       "                        <td id=\"T_fdca5a34_e140_11ee_b09f_0242ac120046row0_col0\" class=\"data row0 col0\" ></td>\n",
       "                        <td id=\"T_fdca5a34_e140_11ee_b09f_0242ac120046row0_col1\" class=\"data row0 col1\" >0.001919</td>\n",
       "                        <td id=\"T_fdca5a34_e140_11ee_b09f_0242ac120046row0_col2\" class=\"data row0 col2\" >1.422301</td>\n",
       "                        <td id=\"T_fdca5a34_e140_11ee_b09f_0242ac120046row0_col3\" class=\"data row0 col3\" >0.194400</td>\n",
       "                        <td id=\"T_fdca5a34_e140_11ee_b09f_0242ac120046row0_col4\" class=\"data row0 col4\" >0.505814</td>\n",
       "                        <td id=\"T_fdca5a34_e140_11ee_b09f_0242ac120046row0_col5\" class=\"data row0 col5\" >-0.002217</td>\n",
       "                        <td id=\"T_fdca5a34_e140_11ee_b09f_0242ac120046row0_col6\" class=\"data row0 col6\" >-0.044034</td>\n",
       "                        <td id=\"T_fdca5a34_e140_11ee_b09f_0242ac120046row0_col7\" class=\"data row0 col7\" >False</td>\n",
       "                        <td id=\"T_fdca5a34_e140_11ee_b09f_0242ac120046row0_col8\" class=\"data row0 col8\" >False</td>\n",
       "                        <td id=\"T_fdca5a34_e140_11ee_b09f_0242ac120046row0_col9\" class=\"data row0 col9\" >1.422302</td>\n",
       "                        <td id=\"T_fdca5a34_e140_11ee_b09f_0242ac120046row0_col10\" class=\"data row0 col10\" >0.541885</td>\n",
       "                        <td id=\"T_fdca5a34_e140_11ee_b09f_0242ac120046row0_col11\" class=\"data row0 col11\" >0.002217</td>\n",
       "            </tr>\n",
       "            <tr>\n",
       "                        <th id=\"T_fdca5a34_e140_11ee_b09f_0242ac120046level0_row1\" class=\"row_heading level0 row1\" >Action</th>\n",
       "                        <td id=\"T_fdca5a34_e140_11ee_b09f_0242ac120046row1_col0\" class=\"data row1 col0\" >Do nothing</td>\n",
       "                        <td id=\"T_fdca5a34_e140_11ee_b09f_0242ac120046row1_col1\" class=\"data row1 col1\" ></td>\n",
       "                        <td id=\"T_fdca5a34_e140_11ee_b09f_0242ac120046row1_col2\" class=\"data row1 col2\" ></td>\n",
       "                        <td id=\"T_fdca5a34_e140_11ee_b09f_0242ac120046row1_col3\" class=\"data row1 col3\" ></td>\n",
       "                        <td id=\"T_fdca5a34_e140_11ee_b09f_0242ac120046row1_col4\" class=\"data row1 col4\" ></td>\n",
       "                        <td id=\"T_fdca5a34_e140_11ee_b09f_0242ac120046row1_col5\" class=\"data row1 col5\" ></td>\n",
       "                        <td id=\"T_fdca5a34_e140_11ee_b09f_0242ac120046row1_col6\" class=\"data row1 col6\" ></td>\n",
       "                        <td id=\"T_fdca5a34_e140_11ee_b09f_0242ac120046row1_col7\" class=\"data row1 col7\" ></td>\n",
       "                        <td id=\"T_fdca5a34_e140_11ee_b09f_0242ac120046row1_col8\" class=\"data row1 col8\" ></td>\n",
       "                        <td id=\"T_fdca5a34_e140_11ee_b09f_0242ac120046row1_col9\" class=\"data row1 col9\" ></td>\n",
       "                        <td id=\"T_fdca5a34_e140_11ee_b09f_0242ac120046row1_col10\" class=\"data row1 col10\" ></td>\n",
       "                        <td id=\"T_fdca5a34_e140_11ee_b09f_0242ac120046row1_col11\" class=\"data row1 col11\" ></td>\n",
       "            </tr>\n",
       "            <tr>\n",
       "                        <th id=\"T_fdca5a34_e140_11ee_b09f_0242ac120046level0_row2\" class=\"row_heading level0 row2\" >Next State</th>\n",
       "                        <td id=\"T_fdca5a34_e140_11ee_b09f_0242ac120046row2_col0\" class=\"data row2 col0\" ></td>\n",
       "                        <td id=\"T_fdca5a34_e140_11ee_b09f_0242ac120046row2_col1\" class=\"data row2 col1\" >0.003839</td>\n",
       "                        <td id=\"T_fdca5a34_e140_11ee_b09f_0242ac120046row2_col2\" class=\"data row2 col2\" >1.433103</td>\n",
       "                        <td id=\"T_fdca5a34_e140_11ee_b09f_0242ac120046row2_col3\" class=\"data row2 col3\" >0.194137</td>\n",
       "                        <td id=\"T_fdca5a34_e140_11ee_b09f_0242ac120046row2_col4\" class=\"data row2 col4\" >0.480094</td>\n",
       "                        <td id=\"T_fdca5a34_e140_11ee_b09f_0242ac120046row2_col5\" class=\"data row2 col5\" >-0.004393</td>\n",
       "                        <td id=\"T_fdca5a34_e140_11ee_b09f_0242ac120046row2_col6\" class=\"data row2 col6\" >-0.043519</td>\n",
       "                        <td id=\"T_fdca5a34_e140_11ee_b09f_0242ac120046row2_col7\" class=\"data row2 col7\" >False</td>\n",
       "                        <td id=\"T_fdca5a34_e140_11ee_b09f_0242ac120046row2_col8\" class=\"data row2 col8\" >False</td>\n",
       "                        <td id=\"T_fdca5a34_e140_11ee_b09f_0242ac120046row2_col9\" class=\"data row2 col9\" >1.433108</td>\n",
       "                        <td id=\"T_fdca5a34_e140_11ee_b09f_0242ac120046row2_col10\" class=\"data row2 col10\" >0.517860</td>\n",
       "                        <td id=\"T_fdca5a34_e140_11ee_b09f_0242ac120046row2_col11\" class=\"data row2 col11\" >0.004393</td>\n",
       "            </tr>\n",
       "            <tr>\n",
       "                        <th id=\"T_fdca5a34_e140_11ee_b09f_0242ac120046level0_row3\" class=\"row_heading level0 row3\" >Reward</th>\n",
       "                        <td id=\"T_fdca5a34_e140_11ee_b09f_0242ac120046row3_col0\" class=\"data row3 col0\" >1.104326</td>\n",
       "                        <td id=\"T_fdca5a34_e140_11ee_b09f_0242ac120046row3_col1\" class=\"data row3 col1\" ></td>\n",
       "                        <td id=\"T_fdca5a34_e140_11ee_b09f_0242ac120046row3_col2\" class=\"data row3 col2\" ></td>\n",
       "                        <td id=\"T_fdca5a34_e140_11ee_b09f_0242ac120046row3_col3\" class=\"data row3 col3\" ></td>\n",
       "                        <td id=\"T_fdca5a34_e140_11ee_b09f_0242ac120046row3_col4\" class=\"data row3 col4\" ></td>\n",
       "                        <td id=\"T_fdca5a34_e140_11ee_b09f_0242ac120046row3_col5\" class=\"data row3 col5\" ></td>\n",
       "                        <td id=\"T_fdca5a34_e140_11ee_b09f_0242ac120046row3_col6\" class=\"data row3 col6\" ></td>\n",
       "                        <td id=\"T_fdca5a34_e140_11ee_b09f_0242ac120046row3_col7\" class=\"data row3 col7\" ></td>\n",
       "                        <td id=\"T_fdca5a34_e140_11ee_b09f_0242ac120046row3_col8\" class=\"data row3 col8\" ></td>\n",
       "                        <td id=\"T_fdca5a34_e140_11ee_b09f_0242ac120046row3_col9\" class=\"data row3 col9\" ></td>\n",
       "                        <td id=\"T_fdca5a34_e140_11ee_b09f_0242ac120046row3_col10\" class=\"data row3 col10\" ></td>\n",
       "                        <td id=\"T_fdca5a34_e140_11ee_b09f_0242ac120046row3_col11\" class=\"data row3 col11\" ></td>\n",
       "            </tr>\n",
       "            <tr>\n",
       "                        <th id=\"T_fdca5a34_e140_11ee_b09f_0242ac120046level0_row4\" class=\"row_heading level0 row4\" >Episode Terminated</th>\n",
       "                        <td id=\"T_fdca5a34_e140_11ee_b09f_0242ac120046row4_col0\" class=\"data row4 col0\" >False</td>\n",
       "                        <td id=\"T_fdca5a34_e140_11ee_b09f_0242ac120046row4_col1\" class=\"data row4 col1\" ></td>\n",
       "                        <td id=\"T_fdca5a34_e140_11ee_b09f_0242ac120046row4_col2\" class=\"data row4 col2\" ></td>\n",
       "                        <td id=\"T_fdca5a34_e140_11ee_b09f_0242ac120046row4_col3\" class=\"data row4 col3\" ></td>\n",
       "                        <td id=\"T_fdca5a34_e140_11ee_b09f_0242ac120046row4_col4\" class=\"data row4 col4\" ></td>\n",
       "                        <td id=\"T_fdca5a34_e140_11ee_b09f_0242ac120046row4_col5\" class=\"data row4 col5\" ></td>\n",
       "                        <td id=\"T_fdca5a34_e140_11ee_b09f_0242ac120046row4_col6\" class=\"data row4 col6\" ></td>\n",
       "                        <td id=\"T_fdca5a34_e140_11ee_b09f_0242ac120046row4_col7\" class=\"data row4 col7\" ></td>\n",
       "                        <td id=\"T_fdca5a34_e140_11ee_b09f_0242ac120046row4_col8\" class=\"data row4 col8\" ></td>\n",
       "                        <td id=\"T_fdca5a34_e140_11ee_b09f_0242ac120046row4_col9\" class=\"data row4 col9\" ></td>\n",
       "                        <td id=\"T_fdca5a34_e140_11ee_b09f_0242ac120046row4_col10\" class=\"data row4 col10\" ></td>\n",
       "                        <td id=\"T_fdca5a34_e140_11ee_b09f_0242ac120046row4_col11\" class=\"data row4 col11\" ></td>\n",
       "            </tr>\n",
       "    </tbody></table>"
      ],
      "text/plain": [
       "<pandas.io.formats.style.Styler at 0x7f9f286bff50>"
      ]
     },
     "metadata": {},
     "output_type": "display_data"
    }
   ],
   "source": [
    "# Select an action\n",
    "action = 0\n",
    "\n",
    "# Run a single time step of the environment's dynamics with the given action.\n",
    "next_state, reward, done, _ = env.step(action)\n",
    "\n",
    "# Display table with values.\n",
    "utils.display_table(current_state, action, next_state, reward, done)\n",
    "\n",
    "# Replace the `current_state` with the state after the action is taken\n",
    "current_state = next_state"
   ]
  },
  {
   "cell_type": "markdown",
   "metadata": {},
   "source": [
    "In practice, when we train the agent we use a loop to allow the agent to take many consecutive actions during an episode."
   ]
  },
  {
   "cell_type": "markdown",
   "metadata": {},
   "source": [
    "<a name=\"6\"></a>\n",
    "## 6 - Deep Q-Learning\n",
    "\n",
    "In cases where both the state and action space are discrete we can estimate the action-value function iteratively by using the Bellman equation:\n",
    "\n",
    "$$\n",
    "Q_{i+1}(s,a) = R + \\gamma \\max_{a'}Q_i(s',a')\n",
    "$$\n",
    "\n",
    "This iterative method converges to the optimal action-value function $Q^*(s,a)$ as $i\\to\\infty$. This means that the agent just needs to gradually explore the state-action space and keep updating the estimate of $Q(s,a)$ until it converges to the optimal action-value function $Q^*(s,a)$. However, in cases where the state space is continuous it becomes practically impossible to explore the entire state-action space. Consequently, this also makes it practically impossible to gradually estimate $Q(s,a)$ until it converges to $Q^*(s,a)$.\n",
    "\n",
    "In the Deep $Q$-Learning, we solve this problem by using a neural network to estimate the action-value function $Q(s,a)\\approx Q^*(s,a)$. We call this neural network a $Q$-Network and it can be trained by adjusting its weights at each iteration to minimize the mean-squared error in the Bellman equation.\n",
    "\n",
    "Unfortunately, using neural networks in reinforcement learning to estimate action-value functions has proven to be highly unstable. Luckily, there's a couple of techniques that can be employed to avoid instabilities. These techniques consist of using a ***Target Network*** and ***Experience Replay***. We will explore these two techniques in the following sections."
   ]
  },
  {
   "cell_type": "markdown",
   "metadata": {},
   "source": [
    "<a name=\"6.1\"></a>\n",
    "### 6.1 Target Network\n",
    "\n",
    "We can train the $Q$-Network by adjusting it's weights at each iteration to minimize the mean-squared error in the Bellman equation, where the target values are given by:\n",
    "\n",
    "$$\n",
    "y = R + \\gamma \\max_{a'}Q(s',a';w)\n",
    "$$\n",
    "\n",
    "where $w$ are the weights of the $Q$-Network. This means that we are adjusting the weights $w$ at each iteration to minimize the following error:\n",
    "\n",
    "$$\n",
    "\\overbrace{\\underbrace{R + \\gamma \\max_{a'}Q(s',a'; w)}_{\\rm {y~target}} - Q(s,a;w)}^{\\rm {Error}}\n",
    "$$\n",
    "\n",
    "Notice that this forms a problem because the $y$ target is changing on every iteration. Having a constantly moving target can lead to oscillations and instabilities. To avoid this, we can create\n",
    "a separate neural network for generating the $y$ targets. We call this separate neural network the **target $\\hat Q$-Network** and it will have the same architecture as the original $Q$-Network. By using the target $\\hat Q$-Network, the above error becomes:\n",
    "\n",
    "$$\n",
    "\\overbrace{\\underbrace{R + \\gamma \\max_{a'}\\hat{Q}(s',a'; w^-)}_{\\rm {y~target}} - Q(s,a;w)}^{\\rm {Error}}\n",
    "$$\n",
    "\n",
    "where $w^-$ and $w$ are the weights of the target $\\hat Q$-Network and $Q$-Network, respectively.\n",
    "\n",
    "In practice, we will use the following algorithm: every $C$ time steps we will use the $\\hat Q$-Network to generate the $y$ targets and update the weights of the target $\\hat Q$-Network using the weights of the $Q$-Network. We will update the weights $w^-$ of the the target $\\hat Q$-Network using a **soft update**. This means that we will update the weights $w^-$ using the following rule:\n",
    " \n",
    "$$\n",
    "w^-\\leftarrow \\tau w + (1 - \\tau) w^-\n",
    "$$\n",
    "\n",
    "where $\\tau\\ll 1$. By using the soft update, we are ensuring that the target values, $y$, change slowly, which greatly improves the stability of our learning algorithm."
   ]
  },
  {
   "cell_type": "markdown",
   "metadata": {},
   "source": [
    "<a name=\"ex01\"></a>\n",
    "### Exercise 1\n",
    "\n",
    "In this exercise you will create the $Q$ and target $\\hat Q$ networks and set the optimizer. Remember that the Deep $Q$-Network (DQN) is a neural network that approximates the action-value function $Q(s,a)\\approx Q^*(s,a)$. It does this by learning how to map states to $Q$ values.\n",
    "\n",
    "To solve the Lunar Lander environment, we are going to employ a DQN with the following architecture:\n",
    "\n",
    "* An `Input` layer that takes `state_size` as input.\n",
    "\n",
    "* A `Dense` layer with `64` units and a `relu` activation function.\n",
    "\n",
    "* A `Dense` layer with `64` units and a `relu` activation function.\n",
    "\n",
    "* A `Dense` layer with `num_actions` units and a `linear` activation function. This will be the output layer of our network.\n",
    "\n",
    "\n",
    "In the cell below you should create the $Q$-Network and the target $\\hat Q$-Network using the model architecture described above. Remember that both the $Q$-Network and the target $\\hat Q$-Network have the same architecture.\n",
    "\n",
    "Lastly, you should set `Adam` as the optimizer with a learning rate equal to `ALPHA`. Recall that `ALPHA` was defined in the [Hyperparameters](#2) section. We should note that for this exercise you should use the already imported packages:\n",
    "```python\n",
    "from tensorflow.keras.layers import Dense, Input\n",
    "from tensorflow.keras.optimizers import Adam\n",
    "```"
   ]
  },
  {
   "cell_type": "code",
   "execution_count": 9,
   "metadata": {
    "deletable": false
   },
   "outputs": [],
   "source": [
    "# UNQ_C1\n",
    "# GRADED CELL\n",
    "\n",
    "# Create the Q-Network\n",
    "q_network = Sequential([\n",
    "    ### START CODE HERE ### \n",
    "    Input(shape=state_size),\n",
    "    Dense(units=64, activation='relu'),\n",
    "    Dense(units=64, activation='relu'),\n",
    "    Dense(units=num_actions)\n",
    "    ### END CODE HERE ### \n",
    "    ])\n",
    "\n",
    "# Create the target Q^-Network\n",
    "target_q_network = Sequential([\n",
    "    ### START CODE HERE ### \n",
    "    Input(shape=state_size),\n",
    "    Dense(units=64, activation='relu'),\n",
    "    Dense(units=64, activation='relu'),\n",
    "    Dense(units=num_actions)\n",
    "    ### END CODE HERE ###\n",
    "    ])\n",
    "\n",
    "### START CODE HERE ### \n",
    "optimizer = Adam(learning_rate=ALPHA)\n",
    "### END CODE HERE ###"
   ]
  },
  {
   "cell_type": "code",
   "execution_count": 10,
   "metadata": {
    "deletable": false,
    "editable": false
   },
   "outputs": [
    {
     "name": "stdout",
     "output_type": "stream",
     "text": [
      "\u001b[92mAll tests passed!\n",
      "\u001b[92mAll tests passed!\n",
      "\u001b[92mAll tests passed!\n"
     ]
    }
   ],
   "source": [
    "# UNIT TEST\n",
    "from public_tests import *\n",
    "\n",
    "test_network(q_network)\n",
    "test_network(target_q_network)\n",
    "test_optimizer(optimizer, ALPHA) "
   ]
  },
  {
   "cell_type": "markdown",
   "metadata": {},
   "source": [
    "<details>\n",
    "  <summary><font size=\"3\" color=\"darkgreen\"><b>Click for hints</b></font></summary>\n",
    "    \n",
    "```python\n",
    "# Create the Q-Network\n",
    "q_network = Sequential([\n",
    "    Input(shape=state_size),                      \n",
    "    Dense(units=64, activation='relu'),            \n",
    "    Dense(units=64, activation='relu'),            \n",
    "    Dense(units=num_actions, activation='linear'),\n",
    "    ])\n",
    "\n",
    "# Create the target Q^-Network\n",
    "target_q_network = Sequential([\n",
    "    Input(shape=state_size),                       \n",
    "    Dense(units=64, activation='relu'),            \n",
    "    Dense(units=64, activation='relu'),            \n",
    "    Dense(units=num_actions, activation='linear'), \n",
    "    ])\n",
    "\n",
    "optimizer = Adam(learning_rate=ALPHA)                                  \n",
    "``` "
   ]
  },
  {
   "cell_type": "markdown",
   "metadata": {},
   "source": [
    "<a name=\"6.2\"></a>\n",
    "### 6.2 Experience Replay\n",
    "\n",
    "When an agent interacts with the environment, the states, actions, and rewards the agent experiences are sequential by nature. If the agent tries to learn from these consecutive experiences it can run into problems due to the strong correlations between them. To avoid this, we employ a technique known as **Experience Replay** to generate uncorrelated experiences for training our agent. Experience replay consists of storing the agent's experiences (i.e the states, actions, and rewards the agent receives) in a memory buffer and then sampling a random mini-batch of experiences from the buffer to do the learning. The experience tuples $(S_t, A_t, R_t, S_{t+1})$ will be added to the memory buffer at each time step as the agent interacts with the environment.\n",
    "\n",
    "For convenience, we will store the experiences as named tuples."
   ]
  },
  {
   "cell_type": "code",
   "execution_count": 11,
   "metadata": {
    "deletable": false,
    "editable": false
   },
   "outputs": [],
   "source": [
    "# Store experiences as named tuples\n",
    "experience = namedtuple(\"Experience\", field_names=[\"state\", \"action\", \"reward\", \"next_state\", \"done\"])"
   ]
  },
  {
   "cell_type": "markdown",
   "metadata": {},
   "source": [
    "By using experience replay we avoid problematic correlations, oscillations and instabilities. In addition, experience replay also allows the agent to potentially use the same experience in multiple weight updates, which increases data efficiency."
   ]
  },
  {
   "cell_type": "markdown",
   "metadata": {},
   "source": [
    "<a name=\"7\"></a>\n",
    "## 7 - Deep Q-Learning Algorithm with Experience Replay\n",
    "\n",
    "Now that we know all the techniques that we are going to use, we can put them together to arrive at the Deep Q-Learning Algorithm With Experience Replay.\n",
    "<br>\n",
    "<br>\n",
    "<figure>\n",
    "  <img src = \"images/deep_q_algorithm.png\" width = 90% style = \"border: thin silver solid; padding: 0px\">\n",
    "      <figcaption style = \"text-align: center; font-style: italic\">Fig 3. Deep Q-Learning with Experience Replay.</figcaption>\n",
    "</figure>"
   ]
  },
  {
   "cell_type": "markdown",
   "metadata": {},
   "source": [
    "<a name=\"ex02\"></a>\n",
    "### Exercise 2\n",
    "\n",
    "In this exercise you will implement line ***12*** of the algorithm outlined in *Fig 3* above and you will also compute the loss between the $y$ targets and the $Q(s,a)$ values. In the cell below, complete the `compute_loss` function by setting the $y$ targets equal to:\n",
    "\n",
    "$$\n",
    "\\begin{equation}\n",
    "    y_j =\n",
    "    \\begin{cases}\n",
    "      R_j & \\text{if episode terminates at step  } j+1\\\\\n",
    "      R_j + \\gamma \\max_{a'}\\hat{Q}(s_{j+1},a') & \\text{otherwise}\\\\\n",
    "    \\end{cases}       \n",
    "\\end{equation}\n",
    "$$\n",
    "\n",
    "Here are a couple of things to note:\n",
    "\n",
    "* The `compute_loss` function takes in a mini-batch of experience tuples. This mini-batch of experience tuples is unpacked to extract the `states`, `actions`, `rewards`, `next_states`, and `done_vals`. You should keep in mind that these variables are *TensorFlow Tensors* whose size will depend on the mini-batch size. For example, if the mini-batch size is `64` then both `rewards` and `done_vals` will be TensorFlow Tensors with `64` elements.\n",
    "\n",
    "\n",
    "* Using `if/else` statements to set the $y$ targets will not work when the variables are tensors with many elements. However, notice that you can use the `done_vals` to implement the above in a single line of code. To do this, recall that the `done` variable is a Boolean variable that takes the value `True` when an episode terminates at step $j+1$ and it is `False` otherwise. Taking into account that a Boolean value of `True` has the numerical value of `1` and a Boolean value of `False` has the numerical value of `0`, you can use the factor `(1 - done_vals)` to implement the above in a single line of code. Here's a hint: notice that `(1 - done_vals)` has a value of `0` when `done_vals` is `True` and a value of `1` when `done_vals` is `False`. \n",
    "\n",
    "Lastly, compute the loss by calculating the Mean-Squared Error (`MSE`) between the `y_targets` and the `q_values`. To calculate the mean-squared error you should use the already imported package `MSE`:\n",
    "```python\n",
    "from tensorflow.keras.losses import MSE\n",
    "```"
   ]
  },
  {
   "cell_type": "code",
   "execution_count": 13,
   "metadata": {
    "deletable": false
   },
   "outputs": [],
   "source": [
    "# UNQ_C2\n",
    "# GRADED FUNCTION: calculate_loss\n",
    "\n",
    "def compute_loss(experiences, gamma, q_network, target_q_network):\n",
    "    \"\"\" \n",
    "    Calculates the loss.\n",
    "    \n",
    "    Args:\n",
    "      experiences: (tuple) tuple of [\"state\", \"action\", \"reward\", \"next_state\", \"done\"] namedtuples\n",
    "      gamma: (float) The discount factor.\n",
    "      q_network: (tf.keras.Sequential) Keras model for predicting the q_values\n",
    "      target_q_network: (tf.keras.Sequential) Keras model for predicting the targets\n",
    "          \n",
    "    Returns:\n",
    "      loss: (TensorFlow Tensor(shape=(0,), dtype=int32)) the Mean-Squared Error between\n",
    "            the y targets and the Q(s,a) values.\n",
    "    \"\"\"\n",
    "\n",
    "    # Unpack the mini-batch of experience tuples\n",
    "    states, actions, rewards, next_states, done_vals = experiences\n",
    "    \n",
    "    # Compute max Q^(s,a)\n",
    "    max_qsa = tf.reduce_max(target_q_network(next_states), axis=-1)\n",
    "    \n",
    "    # Set y = R if episode terminates, otherwise set y = R + γ max Q^(s,a).\n",
    "    ### START CODE HERE ### \n",
    "    y_targets = [reward if done_vals[idx] else reward + gamma * max_qsa[idx] for idx, reward in enumerate(rewards)]\n",
    "    ### END CODE HERE ###\n",
    "    \n",
    "    # Get the q_values and reshape to match y_targets\n",
    "    q_values = q_network(states)\n",
    "    q_values = tf.gather_nd(q_values, tf.stack([tf.range(q_values.shape[0]),\n",
    "                                                tf.cast(actions, tf.int32)], axis=1))\n",
    "        \n",
    "    # Compute the loss\n",
    "    ### START CODE HERE ### \n",
    "    loss = MSE(y_targets, q_values) \n",
    "    ### END CODE HERE ### \n",
    "    \n",
    "    return loss"
   ]
  },
  {
   "cell_type": "code",
   "execution_count": 14,
   "metadata": {
    "deletable": false,
    "editable": false
   },
   "outputs": [
    {
     "name": "stdout",
     "output_type": "stream",
     "text": [
      "\u001b[92mAll tests passed!\n"
     ]
    }
   ],
   "source": [
    "# UNIT TEST    \n",
    "test_compute_loss(compute_loss)"
   ]
  },
  {
   "cell_type": "markdown",
   "metadata": {},
   "source": [
    "<details>\n",
    "  <summary><font size=\"3\" color=\"darkgreen\"><b>Click for hints</b></font></summary>\n",
    "    \n",
    "```python\n",
    "def compute_loss(experiences, gamma, q_network, target_q_network):\n",
    "    \"\"\" \n",
    "    Calculates the loss.\n",
    "    \n",
    "    Args:\n",
    "      experiences: (tuple) tuple of [\"state\", \"action\", \"reward\", \"next_state\", \"done\"] namedtuples\n",
    "      gamma: (float) The discount factor.\n",
    "      q_network: (tf.keras.Sequential) Keras model for predicting the q_values\n",
    "      target_q_network: (tf.keras.Sequential) Keras model for predicting the targets\n",
    "          \n",
    "    Returns:\n",
    "      loss: (TensorFlow Tensor(shape=(0,), dtype=int32)) the Mean-Squared Error between\n",
    "            the y targets and the Q(s,a) values.\n",
    "    \"\"\"\n",
    "\n",
    "    \n",
    "    # Unpack the mini-batch of experience tuples\n",
    "    states, actions, rewards, next_states, done_vals = experiences\n",
    "    \n",
    "    # Compute max Q^(s,a)\n",
    "    max_qsa = tf.reduce_max(target_q_network(next_states), axis=-1)\n",
    "    \n",
    "    # Set y = R if episode terminates, otherwise set y = R + γ max Q^(s,a).\n",
    "    y_targets = rewards + (gamma * max_qsa * (1 - done_vals))\n",
    "    \n",
    "    # Get the q_values\n",
    "    q_values = q_network(states)\n",
    "    q_values = tf.gather_nd(q_values, tf.stack([tf.range(q_values.shape[0]),\n",
    "                                                tf.cast(actions, tf.int32)], axis=1))\n",
    "    \n",
    "    # Calculate the loss\n",
    "    loss = MSE(y_targets, q_values)\n",
    "    \n",
    "    return loss\n",
    "\n",
    "``` \n",
    "    "
   ]
  },
  {
   "cell_type": "markdown",
   "metadata": {},
   "source": [
    "<a name=\"8\"></a>\n",
    "## 8 - Update the Network Weights\n",
    "\n",
    "We will use the `agent_learn` function below to implement lines ***12 -14*** of the algorithm outlined in [Fig 3](#7). The `agent_learn` function will update the weights of the $Q$ and target $\\hat Q$ networks using a custom training loop. Because we are using a custom training loop we need to retrieve the gradients via a `tf.GradientTape` instance, and then call `optimizer.apply_gradients()` to update the weights of our $Q$-Network. Note that we are also using the `@tf.function` decorator to increase performance. Without this decorator our training will take twice as long. If you would like to know more about how to increase performance with `@tf.function` take a look at the [TensorFlow documentation](https://www.tensorflow.org/guide/function).\n",
    "\n",
    "The last line of this function updates the weights of the target $\\hat Q$-Network using a [soft update](#6.1). If you want to know how this is implemented in code we encourage you to take a look at the `utils.update_target_network` function in the `utils` module."
   ]
  },
  {
   "cell_type": "code",
   "execution_count": 15,
   "metadata": {
    "deletable": false,
    "editable": false
   },
   "outputs": [],
   "source": [
    "@tf.function\n",
    "def agent_learn(experiences, gamma):\n",
    "    \"\"\"\n",
    "    Updates the weights of the Q networks.\n",
    "    \n",
    "    Args:\n",
    "      experiences: (tuple) tuple of [\"state\", \"action\", \"reward\", \"next_state\", \"done\"] namedtuples\n",
    "      gamma: (float) The discount factor.\n",
    "    \n",
    "    \"\"\"\n",
    "    \n",
    "    # Calculate the loss\n",
    "    with tf.GradientTape() as tape:\n",
    "        loss = compute_loss(experiences, gamma, q_network, target_q_network)\n",
    "\n",
    "    # Get the gradients of the loss with respect to the weights.\n",
    "    gradients = tape.gradient(loss, q_network.trainable_variables)\n",
    "    \n",
    "    # Update the weights of the q_network.\n",
    "    optimizer.apply_gradients(zip(gradients, q_network.trainable_variables))\n",
    "\n",
    "    # update the weights of target q_network\n",
    "    utils.update_target_network(q_network, target_q_network)"
   ]
  },
  {
   "cell_type": "markdown",
   "metadata": {},
   "source": [
    "<a name=\"9\"></a>\n",
    "## 9 - Train the Agent\n",
    "\n",
    "We are now ready to train our agent to solve the Lunar Lander environment. In the cell below we will implement the algorithm in [Fig 3](#7) line by line (please note that we have included the same algorithm below for easy reference. This will prevent you from scrolling up and down the notebook):\n",
    "\n",
    "* **Line 1**: We initialize the `memory_buffer` with a capacity of $N =$ `MEMORY_SIZE`. Notice that we are using a `deque` as the data structure for our `memory_buffer`.\n",
    "\n",
    "\n",
    "* **Line 2**: We skip this line since we already initialized the `q_network` in [Exercise 1](#ex01).\n",
    "\n",
    "\n",
    "* **Line 3**: We initialize the `target_q_network` by setting its weights to be equal to those of the `q_network`.\n",
    "\n",
    "\n",
    "* **Line 4**: We start the outer loop. Notice that we have set $M =$ `num_episodes = 2000`. This number is reasonable because the agent should be able to solve the Lunar Lander environment in less than `2000` episodes using this notebook's default parameters.\n",
    "\n",
    "\n",
    "* **Line 5**: We use the `.reset()` method to reset the environment to the initial state and get the initial state.\n",
    "\n",
    "\n",
    "* **Line 6**: We start the inner loop. Notice that we have set $T =$ `max_num_timesteps = 1000`. This means that the episode will automatically terminate if the episode hasn't terminated after `1000` time steps.\n",
    "\n",
    "\n",
    "* **Line 7**: The agent observes the current `state` and chooses an `action` using an $\\epsilon$-greedy policy. Our agent starts out using a value of $\\epsilon =$ `epsilon = 1` which yields an $\\epsilon$-greedy policy that is equivalent to the equiprobable random policy. This means that at the beginning of our training, the agent is just going to take random actions regardless of the observed `state`. As training progresses we will decrease the value of $\\epsilon$ slowly towards a minimum value using a given $\\epsilon$-decay rate. We want this minimum value to be close to zero because a value of $\\epsilon = 0$ will yield an $\\epsilon$-greedy policy that is equivalent to the greedy policy. This means that towards the end of training, the agent will lean towards selecting the `action` that it believes (based on its past experiences) will maximize $Q(s,a)$. We will set the minimum $\\epsilon$ value to be `0.01` and not exactly 0 because we always want to keep a little bit of exploration during training. If you want to know how this is implemented in code we encourage you to take a look at the `utils.get_action` function in the `utils` module.\n",
    "\n",
    "\n",
    "* **Line 8**: We use the `.step()` method to take the given `action` in the environment and get the `reward` and the `next_state`. \n",
    "\n",
    "\n",
    "* **Line 9**: We store the `experience(state, action, reward, next_state, done)` tuple in our `memory_buffer`. Notice that we also store the `done` variable so that we can keep track of when an episode terminates. This allowed us to set the $y$ targets in [Exercise 2](#ex02).\n",
    "\n",
    "\n",
    "* **Line 10**: We check if the conditions are met to perform a learning update. We do this by using our custom `utils.check_update_conditions` function. This function checks if $C =$ `NUM_STEPS_FOR_UPDATE = 4` time steps have occured and if our `memory_buffer` has enough experience tuples to fill a mini-batch. For example, if the mini-batch size is `64`, then our `memory_buffer` should have more than `64` experience tuples in order to pass the latter condition. If the conditions are met, then the `utils.check_update_conditions` function will return a value of `True`, otherwise it will return a value of `False`.\n",
    "\n",
    "\n",
    "* **Lines 11 - 14**: If the `update` variable is `True` then we perform a learning update. The learning update consists of sampling a random mini-batch of experience tuples from our `memory_buffer`, setting the $y$ targets, performing gradient descent, and updating the weights of the networks. We will use the `agent_learn` function we defined in [Section 8](#8) to perform the latter 3.\n",
    "\n",
    "\n",
    "* **Line 15**: At the end of each iteration of the inner loop we set `next_state` as our new `state` so that the loop can start again from this new state. In addition, we check if the episode has reached a terminal state (i.e we check if `done = True`). If a terminal state has been reached, then we break out of the inner loop.\n",
    "\n",
    "\n",
    "* **Line 16**: At the end of each iteration of the outer loop we update the value of $\\epsilon$, and check if the environment has been solved. We consider that the environment has been solved if the agent receives an average of `200` points in the last `100` episodes. If the environment has not been solved we continue the outer loop and start a new episode.\n",
    "\n",
    "Finally, we wanted to note that we have included some extra variables to keep track of the total number of points the agent received in each episode. This will help us determine if the agent has solved the environment and it will also allow us to see how our agent performed during training. We also use the `time` module to measure how long the training takes. \n",
    "\n",
    "<br>\n",
    "<br>\n",
    "<figure>\n",
    "  <img src = \"images/deep_q_algorithm.png\" width = 90% style = \"border: thin silver solid; padding: 0px\">\n",
    "      <figcaption style = \"text-align: center; font-style: italic\">Fig 4. Deep Q-Learning with Experience Replay.</figcaption>\n",
    "</figure>\n",
    "<br>\n",
    "\n",
    "**Note:** With this notebook's default parameters, the following cell takes between 10 to 15 minutes to run. "
   ]
  },
  {
   "cell_type": "code",
   "execution_count": 16,
   "metadata": {
    "deletable": false,
    "editable": false
   },
   "outputs": [
    {
     "ename": "OperatorNotAllowedInGraphError",
     "evalue": "in converted code:\n\n    <ipython-input-15-ebdf0fb43251>:14 agent_learn  *\n        loss = compute_loss(experiences, gamma, q_network, target_q_network)\n    <ipython-input-13-1cae1bc6485c>:27 compute_loss  *\n        y_targets = [reward if done_vals[idx] else reward + gamma * max_qsa[idx] for idx, reward in enumerate(rewards)]\n    /opt/conda/lib/python3.7/site-packages/tensorflow_core/python/framework/ops.py:539 __iter__\n        self._disallow_iteration()\n    /opt/conda/lib/python3.7/site-packages/tensorflow_core/python/framework/ops.py:532 _disallow_iteration\n        self._disallow_when_autograph_enabled(\"iterating over `tf.Tensor`\")\n    /opt/conda/lib/python3.7/site-packages/tensorflow_core/python/framework/ops.py:510 _disallow_when_autograph_enabled\n        \" decorating it directly with @tf.function.\".format(task))\n\n    OperatorNotAllowedInGraphError: iterating over `tf.Tensor` is not allowed: AutoGraph did not convert this function. Try decorating it directly with @tf.function.\n",
     "output_type": "error",
     "traceback": [
      "\u001b[0;31m---------------------------------------------------------------------------\u001b[0m",
      "\u001b[0;31mOperatorNotAllowedInGraphError\u001b[0m            Traceback (most recent call last)",
      "\u001b[0;32m<ipython-input-16-4b91c371776f>\u001b[0m in \u001b[0;36m<module>\u001b[0;34m\u001b[0m\n\u001b[1;32m     44\u001b[0m             \u001b[0;31m# Set the y targets, perform a gradient descent step,\u001b[0m\u001b[0;34m\u001b[0m\u001b[0;34m\u001b[0m\u001b[0;34m\u001b[0m\u001b[0m\n\u001b[1;32m     45\u001b[0m             \u001b[0;31m# and update the network weights.\u001b[0m\u001b[0;34m\u001b[0m\u001b[0;34m\u001b[0m\u001b[0;34m\u001b[0m\u001b[0m\n\u001b[0;32m---> 46\u001b[0;31m             \u001b[0magent_learn\u001b[0m\u001b[0;34m(\u001b[0m\u001b[0mexperiences\u001b[0m\u001b[0;34m,\u001b[0m \u001b[0mGAMMA\u001b[0m\u001b[0;34m)\u001b[0m\u001b[0;34m\u001b[0m\u001b[0;34m\u001b[0m\u001b[0m\n\u001b[0m\u001b[1;32m     47\u001b[0m \u001b[0;34m\u001b[0m\u001b[0m\n\u001b[1;32m     48\u001b[0m         \u001b[0mstate\u001b[0m \u001b[0;34m=\u001b[0m \u001b[0mnext_state\u001b[0m\u001b[0;34m.\u001b[0m\u001b[0mcopy\u001b[0m\u001b[0;34m(\u001b[0m\u001b[0;34m)\u001b[0m\u001b[0;34m\u001b[0m\u001b[0;34m\u001b[0m\u001b[0m\n",
      "\u001b[0;32m/opt/conda/lib/python3.7/site-packages/tensorflow_core/python/eager/def_function.py\u001b[0m in \u001b[0;36m__call__\u001b[0;34m(self, *args, **kwds)\u001b[0m\n\u001b[1;32m    566\u001b[0m         \u001b[0mxla_context\u001b[0m\u001b[0;34m.\u001b[0m\u001b[0mExit\u001b[0m\u001b[0;34m(\u001b[0m\u001b[0;34m)\u001b[0m\u001b[0;34m\u001b[0m\u001b[0;34m\u001b[0m\u001b[0m\n\u001b[1;32m    567\u001b[0m     \u001b[0;32melse\u001b[0m\u001b[0;34m:\u001b[0m\u001b[0;34m\u001b[0m\u001b[0;34m\u001b[0m\u001b[0m\n\u001b[0;32m--> 568\u001b[0;31m       \u001b[0mresult\u001b[0m \u001b[0;34m=\u001b[0m \u001b[0mself\u001b[0m\u001b[0;34m.\u001b[0m\u001b[0m_call\u001b[0m\u001b[0;34m(\u001b[0m\u001b[0;34m*\u001b[0m\u001b[0margs\u001b[0m\u001b[0;34m,\u001b[0m \u001b[0;34m**\u001b[0m\u001b[0mkwds\u001b[0m\u001b[0;34m)\u001b[0m\u001b[0;34m\u001b[0m\u001b[0;34m\u001b[0m\u001b[0m\n\u001b[0m\u001b[1;32m    569\u001b[0m \u001b[0;34m\u001b[0m\u001b[0m\n\u001b[1;32m    570\u001b[0m     \u001b[0;32mif\u001b[0m \u001b[0mtracing_count\u001b[0m \u001b[0;34m==\u001b[0m \u001b[0mself\u001b[0m\u001b[0;34m.\u001b[0m\u001b[0m_get_tracing_count\u001b[0m\u001b[0;34m(\u001b[0m\u001b[0;34m)\u001b[0m\u001b[0;34m:\u001b[0m\u001b[0;34m\u001b[0m\u001b[0;34m\u001b[0m\u001b[0m\n",
      "\u001b[0;32m/opt/conda/lib/python3.7/site-packages/tensorflow_core/python/eager/def_function.py\u001b[0m in \u001b[0;36m_call\u001b[0;34m(self, *args, **kwds)\u001b[0m\n\u001b[1;32m    613\u001b[0m       \u001b[0;31m# This is the first call of __call__, so we have to initialize.\u001b[0m\u001b[0;34m\u001b[0m\u001b[0;34m\u001b[0m\u001b[0;34m\u001b[0m\u001b[0m\n\u001b[1;32m    614\u001b[0m       \u001b[0minitializers\u001b[0m \u001b[0;34m=\u001b[0m \u001b[0;34m[\u001b[0m\u001b[0;34m]\u001b[0m\u001b[0;34m\u001b[0m\u001b[0;34m\u001b[0m\u001b[0m\n\u001b[0;32m--> 615\u001b[0;31m       \u001b[0mself\u001b[0m\u001b[0;34m.\u001b[0m\u001b[0m_initialize\u001b[0m\u001b[0;34m(\u001b[0m\u001b[0margs\u001b[0m\u001b[0;34m,\u001b[0m \u001b[0mkwds\u001b[0m\u001b[0;34m,\u001b[0m \u001b[0madd_initializers_to\u001b[0m\u001b[0;34m=\u001b[0m\u001b[0minitializers\u001b[0m\u001b[0;34m)\u001b[0m\u001b[0;34m\u001b[0m\u001b[0;34m\u001b[0m\u001b[0m\n\u001b[0m\u001b[1;32m    616\u001b[0m     \u001b[0;32mfinally\u001b[0m\u001b[0;34m:\u001b[0m\u001b[0;34m\u001b[0m\u001b[0;34m\u001b[0m\u001b[0m\n\u001b[1;32m    617\u001b[0m       \u001b[0;31m# At this point we know that the initialization is complete (or less\u001b[0m\u001b[0;34m\u001b[0m\u001b[0;34m\u001b[0m\u001b[0;34m\u001b[0m\u001b[0m\n",
      "\u001b[0;32m/opt/conda/lib/python3.7/site-packages/tensorflow_core/python/eager/def_function.py\u001b[0m in \u001b[0;36m_initialize\u001b[0;34m(self, args, kwds, add_initializers_to)\u001b[0m\n\u001b[1;32m    495\u001b[0m     self._concrete_stateful_fn = (\n\u001b[1;32m    496\u001b[0m         self._stateful_fn._get_concrete_function_internal_garbage_collected(  # pylint: disable=protected-access\n\u001b[0;32m--> 497\u001b[0;31m             *args, **kwds))\n\u001b[0m\u001b[1;32m    498\u001b[0m \u001b[0;34m\u001b[0m\u001b[0m\n\u001b[1;32m    499\u001b[0m     \u001b[0;32mdef\u001b[0m \u001b[0minvalid_creator_scope\u001b[0m\u001b[0;34m(\u001b[0m\u001b[0;34m*\u001b[0m\u001b[0munused_args\u001b[0m\u001b[0;34m,\u001b[0m \u001b[0;34m**\u001b[0m\u001b[0munused_kwds\u001b[0m\u001b[0;34m)\u001b[0m\u001b[0;34m:\u001b[0m\u001b[0;34m\u001b[0m\u001b[0;34m\u001b[0m\u001b[0m\n",
      "\u001b[0;32m/opt/conda/lib/python3.7/site-packages/tensorflow_core/python/eager/function.py\u001b[0m in \u001b[0;36m_get_concrete_function_internal_garbage_collected\u001b[0;34m(self, *args, **kwargs)\u001b[0m\n\u001b[1;32m   2387\u001b[0m       \u001b[0margs\u001b[0m\u001b[0;34m,\u001b[0m \u001b[0mkwargs\u001b[0m \u001b[0;34m=\u001b[0m \u001b[0;32mNone\u001b[0m\u001b[0;34m,\u001b[0m \u001b[0;32mNone\u001b[0m\u001b[0;34m\u001b[0m\u001b[0;34m\u001b[0m\u001b[0m\n\u001b[1;32m   2388\u001b[0m     \u001b[0;32mwith\u001b[0m \u001b[0mself\u001b[0m\u001b[0;34m.\u001b[0m\u001b[0m_lock\u001b[0m\u001b[0;34m:\u001b[0m\u001b[0;34m\u001b[0m\u001b[0;34m\u001b[0m\u001b[0m\n\u001b[0;32m-> 2389\u001b[0;31m       \u001b[0mgraph_function\u001b[0m\u001b[0;34m,\u001b[0m \u001b[0m_\u001b[0m\u001b[0;34m,\u001b[0m \u001b[0m_\u001b[0m \u001b[0;34m=\u001b[0m \u001b[0mself\u001b[0m\u001b[0;34m.\u001b[0m\u001b[0m_maybe_define_function\u001b[0m\u001b[0;34m(\u001b[0m\u001b[0margs\u001b[0m\u001b[0;34m,\u001b[0m \u001b[0mkwargs\u001b[0m\u001b[0;34m)\u001b[0m\u001b[0;34m\u001b[0m\u001b[0;34m\u001b[0m\u001b[0m\n\u001b[0m\u001b[1;32m   2390\u001b[0m     \u001b[0;32mreturn\u001b[0m \u001b[0mgraph_function\u001b[0m\u001b[0;34m\u001b[0m\u001b[0;34m\u001b[0m\u001b[0m\n\u001b[1;32m   2391\u001b[0m \u001b[0;34m\u001b[0m\u001b[0m\n",
      "\u001b[0;32m/opt/conda/lib/python3.7/site-packages/tensorflow_core/python/eager/function.py\u001b[0m in \u001b[0;36m_maybe_define_function\u001b[0;34m(self, args, kwargs)\u001b[0m\n\u001b[1;32m   2701\u001b[0m \u001b[0;34m\u001b[0m\u001b[0m\n\u001b[1;32m   2702\u001b[0m       \u001b[0mself\u001b[0m\u001b[0;34m.\u001b[0m\u001b[0m_function_cache\u001b[0m\u001b[0;34m.\u001b[0m\u001b[0mmissed\u001b[0m\u001b[0;34m.\u001b[0m\u001b[0madd\u001b[0m\u001b[0;34m(\u001b[0m\u001b[0mcall_context_key\u001b[0m\u001b[0;34m)\u001b[0m\u001b[0;34m\u001b[0m\u001b[0;34m\u001b[0m\u001b[0m\n\u001b[0;32m-> 2703\u001b[0;31m       \u001b[0mgraph_function\u001b[0m \u001b[0;34m=\u001b[0m \u001b[0mself\u001b[0m\u001b[0;34m.\u001b[0m\u001b[0m_create_graph_function\u001b[0m\u001b[0;34m(\u001b[0m\u001b[0margs\u001b[0m\u001b[0;34m,\u001b[0m \u001b[0mkwargs\u001b[0m\u001b[0;34m)\u001b[0m\u001b[0;34m\u001b[0m\u001b[0;34m\u001b[0m\u001b[0m\n\u001b[0m\u001b[1;32m   2704\u001b[0m       \u001b[0mself\u001b[0m\u001b[0;34m.\u001b[0m\u001b[0m_function_cache\u001b[0m\u001b[0;34m.\u001b[0m\u001b[0mprimary\u001b[0m\u001b[0;34m[\u001b[0m\u001b[0mcache_key\u001b[0m\u001b[0;34m]\u001b[0m \u001b[0;34m=\u001b[0m \u001b[0mgraph_function\u001b[0m\u001b[0;34m\u001b[0m\u001b[0;34m\u001b[0m\u001b[0m\n\u001b[1;32m   2705\u001b[0m       \u001b[0;32mreturn\u001b[0m \u001b[0mgraph_function\u001b[0m\u001b[0;34m,\u001b[0m \u001b[0margs\u001b[0m\u001b[0;34m,\u001b[0m \u001b[0mkwargs\u001b[0m\u001b[0;34m\u001b[0m\u001b[0;34m\u001b[0m\u001b[0m\n",
      "\u001b[0;32m/opt/conda/lib/python3.7/site-packages/tensorflow_core/python/eager/function.py\u001b[0m in \u001b[0;36m_create_graph_function\u001b[0;34m(self, args, kwargs, override_flat_arg_shapes)\u001b[0m\n\u001b[1;32m   2591\u001b[0m             \u001b[0marg_names\u001b[0m\u001b[0;34m=\u001b[0m\u001b[0marg_names\u001b[0m\u001b[0;34m,\u001b[0m\u001b[0;34m\u001b[0m\u001b[0;34m\u001b[0m\u001b[0m\n\u001b[1;32m   2592\u001b[0m             \u001b[0moverride_flat_arg_shapes\u001b[0m\u001b[0;34m=\u001b[0m\u001b[0moverride_flat_arg_shapes\u001b[0m\u001b[0;34m,\u001b[0m\u001b[0;34m\u001b[0m\u001b[0;34m\u001b[0m\u001b[0m\n\u001b[0;32m-> 2593\u001b[0;31m             capture_by_value=self._capture_by_value),\n\u001b[0m\u001b[1;32m   2594\u001b[0m         \u001b[0mself\u001b[0m\u001b[0;34m.\u001b[0m\u001b[0m_function_attributes\u001b[0m\u001b[0;34m,\u001b[0m\u001b[0;34m\u001b[0m\u001b[0;34m\u001b[0m\u001b[0m\n\u001b[1;32m   2595\u001b[0m         \u001b[0;31m# Tell the ConcreteFunction to clean up its graph once it goes out of\u001b[0m\u001b[0;34m\u001b[0m\u001b[0;34m\u001b[0m\u001b[0;34m\u001b[0m\u001b[0m\n",
      "\u001b[0;32m/opt/conda/lib/python3.7/site-packages/tensorflow_core/python/framework/func_graph.py\u001b[0m in \u001b[0;36mfunc_graph_from_py_func\u001b[0;34m(name, python_func, args, kwargs, signature, func_graph, autograph, autograph_options, add_control_dependencies, arg_names, op_return_value, collections, capture_by_value, override_flat_arg_shapes)\u001b[0m\n\u001b[1;32m    976\u001b[0m                                           converted_func)\n\u001b[1;32m    977\u001b[0m \u001b[0;34m\u001b[0m\u001b[0m\n\u001b[0;32m--> 978\u001b[0;31m       \u001b[0mfunc_outputs\u001b[0m \u001b[0;34m=\u001b[0m \u001b[0mpython_func\u001b[0m\u001b[0;34m(\u001b[0m\u001b[0;34m*\u001b[0m\u001b[0mfunc_args\u001b[0m\u001b[0;34m,\u001b[0m \u001b[0;34m**\u001b[0m\u001b[0mfunc_kwargs\u001b[0m\u001b[0;34m)\u001b[0m\u001b[0;34m\u001b[0m\u001b[0;34m\u001b[0m\u001b[0m\n\u001b[0m\u001b[1;32m    979\u001b[0m \u001b[0;34m\u001b[0m\u001b[0m\n\u001b[1;32m    980\u001b[0m       \u001b[0;31m# invariant: `func_outputs` contains only Tensors, CompositeTensors,\u001b[0m\u001b[0;34m\u001b[0m\u001b[0;34m\u001b[0m\u001b[0;34m\u001b[0m\u001b[0m\n",
      "\u001b[0;32m/opt/conda/lib/python3.7/site-packages/tensorflow_core/python/eager/def_function.py\u001b[0m in \u001b[0;36mwrapped_fn\u001b[0;34m(*args, **kwds)\u001b[0m\n\u001b[1;32m    437\u001b[0m         \u001b[0;31m# __wrapped__ allows AutoGraph to swap in a converted function. We give\u001b[0m\u001b[0;34m\u001b[0m\u001b[0;34m\u001b[0m\u001b[0;34m\u001b[0m\u001b[0m\n\u001b[1;32m    438\u001b[0m         \u001b[0;31m# the function a weak reference to itself to avoid a reference cycle.\u001b[0m\u001b[0;34m\u001b[0m\u001b[0;34m\u001b[0m\u001b[0;34m\u001b[0m\u001b[0m\n\u001b[0;32m--> 439\u001b[0;31m         \u001b[0;32mreturn\u001b[0m \u001b[0mweak_wrapped_fn\u001b[0m\u001b[0;34m(\u001b[0m\u001b[0;34m)\u001b[0m\u001b[0;34m.\u001b[0m\u001b[0m__wrapped__\u001b[0m\u001b[0;34m(\u001b[0m\u001b[0;34m*\u001b[0m\u001b[0margs\u001b[0m\u001b[0;34m,\u001b[0m \u001b[0;34m**\u001b[0m\u001b[0mkwds\u001b[0m\u001b[0;34m)\u001b[0m\u001b[0;34m\u001b[0m\u001b[0;34m\u001b[0m\u001b[0m\n\u001b[0m\u001b[1;32m    440\u001b[0m     \u001b[0mweak_wrapped_fn\u001b[0m \u001b[0;34m=\u001b[0m \u001b[0mweakref\u001b[0m\u001b[0;34m.\u001b[0m\u001b[0mref\u001b[0m\u001b[0;34m(\u001b[0m\u001b[0mwrapped_fn\u001b[0m\u001b[0;34m)\u001b[0m\u001b[0;34m\u001b[0m\u001b[0;34m\u001b[0m\u001b[0m\n\u001b[1;32m    441\u001b[0m \u001b[0;34m\u001b[0m\u001b[0m\n",
      "\u001b[0;32m/opt/conda/lib/python3.7/site-packages/tensorflow_core/python/framework/func_graph.py\u001b[0m in \u001b[0;36mwrapper\u001b[0;34m(*args, **kwargs)\u001b[0m\n\u001b[1;32m    966\u001b[0m           \u001b[0;32mexcept\u001b[0m \u001b[0mException\u001b[0m \u001b[0;32mas\u001b[0m \u001b[0me\u001b[0m\u001b[0;34m:\u001b[0m  \u001b[0;31m# pylint:disable=broad-except\u001b[0m\u001b[0;34m\u001b[0m\u001b[0;34m\u001b[0m\u001b[0m\n\u001b[1;32m    967\u001b[0m             \u001b[0;32mif\u001b[0m \u001b[0mhasattr\u001b[0m\u001b[0;34m(\u001b[0m\u001b[0me\u001b[0m\u001b[0;34m,\u001b[0m \u001b[0;34m\"ag_error_metadata\"\u001b[0m\u001b[0;34m)\u001b[0m\u001b[0;34m:\u001b[0m\u001b[0;34m\u001b[0m\u001b[0;34m\u001b[0m\u001b[0m\n\u001b[0;32m--> 968\u001b[0;31m               \u001b[0;32mraise\u001b[0m \u001b[0me\u001b[0m\u001b[0;34m.\u001b[0m\u001b[0mag_error_metadata\u001b[0m\u001b[0;34m.\u001b[0m\u001b[0mto_exception\u001b[0m\u001b[0;34m(\u001b[0m\u001b[0me\u001b[0m\u001b[0;34m)\u001b[0m\u001b[0;34m\u001b[0m\u001b[0;34m\u001b[0m\u001b[0m\n\u001b[0m\u001b[1;32m    969\u001b[0m             \u001b[0;32melse\u001b[0m\u001b[0;34m:\u001b[0m\u001b[0;34m\u001b[0m\u001b[0;34m\u001b[0m\u001b[0m\n\u001b[1;32m    970\u001b[0m               \u001b[0;32mraise\u001b[0m\u001b[0;34m\u001b[0m\u001b[0;34m\u001b[0m\u001b[0m\n",
      "\u001b[0;31mOperatorNotAllowedInGraphError\u001b[0m: in converted code:\n\n    <ipython-input-15-ebdf0fb43251>:14 agent_learn  *\n        loss = compute_loss(experiences, gamma, q_network, target_q_network)\n    <ipython-input-13-1cae1bc6485c>:27 compute_loss  *\n        y_targets = [reward if done_vals[idx] else reward + gamma * max_qsa[idx] for idx, reward in enumerate(rewards)]\n    /opt/conda/lib/python3.7/site-packages/tensorflow_core/python/framework/ops.py:539 __iter__\n        self._disallow_iteration()\n    /opt/conda/lib/python3.7/site-packages/tensorflow_core/python/framework/ops.py:532 _disallow_iteration\n        self._disallow_when_autograph_enabled(\"iterating over `tf.Tensor`\")\n    /opt/conda/lib/python3.7/site-packages/tensorflow_core/python/framework/ops.py:510 _disallow_when_autograph_enabled\n        \" decorating it directly with @tf.function.\".format(task))\n\n    OperatorNotAllowedInGraphError: iterating over `tf.Tensor` is not allowed: AutoGraph did not convert this function. Try decorating it directly with @tf.function.\n"
     ]
    }
   ],
   "source": [
    "start = time.time()\n",
    "\n",
    "num_episodes = 2000\n",
    "max_num_timesteps = 1000\n",
    "\n",
    "total_point_history = []\n",
    "\n",
    "num_p_av = 100    # number of total points to use for averaging\n",
    "epsilon = 1.0     # initial ε value for ε-greedy policy\n",
    "\n",
    "# Create a memory buffer D with capacity N\n",
    "memory_buffer = deque(maxlen=MEMORY_SIZE)\n",
    "\n",
    "# Set the target network weights equal to the Q-Network weights\n",
    "target_q_network.set_weights(q_network.get_weights())\n",
    "\n",
    "for i in range(num_episodes):\n",
    "    \n",
    "    # Reset the environment to the initial state and get the initial state\n",
    "    state = env.reset()\n",
    "    total_points = 0\n",
    "    \n",
    "    for t in range(max_num_timesteps):\n",
    "        \n",
    "        # From the current state S choose an action A using an ε-greedy policy\n",
    "        state_qn = np.expand_dims(state, axis=0)  # state needs to be the right shape for the q_network\n",
    "        q_values = q_network(state_qn)\n",
    "        action = utils.get_action(q_values, epsilon)\n",
    "        \n",
    "        # Take action A and receive reward R and the next state S'\n",
    "        next_state, reward, done, _ = env.step(action)\n",
    "        \n",
    "        # Store experience tuple (S,A,R,S') in the memory buffer.\n",
    "        # We store the done variable as well for convenience.\n",
    "        memory_buffer.append(experience(state, action, reward, next_state, done))\n",
    "        \n",
    "        # Only update the network every NUM_STEPS_FOR_UPDATE time steps.\n",
    "        update = utils.check_update_conditions(t, NUM_STEPS_FOR_UPDATE, memory_buffer)\n",
    "        \n",
    "        if update:\n",
    "            # Sample random mini-batch of experience tuples (S,A,R,S') from D\n",
    "            experiences = utils.get_experiences(memory_buffer)\n",
    "            \n",
    "            # Set the y targets, perform a gradient descent step,\n",
    "            # and update the network weights.\n",
    "            agent_learn(experiences, GAMMA)\n",
    "        \n",
    "        state = next_state.copy()\n",
    "        total_points += reward\n",
    "        \n",
    "        if done:\n",
    "            break\n",
    "            \n",
    "    total_point_history.append(total_points)\n",
    "    av_latest_points = np.mean(total_point_history[-num_p_av:])\n",
    "    \n",
    "    # Update the ε value\n",
    "    epsilon = utils.get_new_eps(epsilon)\n",
    "\n",
    "    print(f\"\\rEpisode {i+1} | Total point average of the last {num_p_av} episodes: {av_latest_points:.2f}\", end=\"\")\n",
    "\n",
    "    if (i+1) % num_p_av == 0:\n",
    "        print(f\"\\rEpisode {i+1} | Total point average of the last {num_p_av} episodes: {av_latest_points:.2f}\")\n",
    "\n",
    "    # We will consider that the environment is solved if we get an\n",
    "    # average of 200 points in the last 100 episodes.\n",
    "    if av_latest_points >= 200.0:\n",
    "        print(f\"\\n\\nEnvironment solved in {i+1} episodes!\")\n",
    "        q_network.save('lunar_lander_model.h5')\n",
    "        break\n",
    "        \n",
    "tot_time = time.time() - start\n",
    "\n",
    "print(f\"\\nTotal Runtime: {tot_time:.2f} s ({(tot_time/60):.2f} min)\")"
   ]
  },
  {
   "cell_type": "markdown",
   "metadata": {},
   "source": [
    "We can plot the total point history along with the moving average to see how our agent improved during training. If you want to know about the different plotting options available in the `utils.plot_history` function we encourage you to take a look at the `utils` module."
   ]
  },
  {
   "cell_type": "code",
   "execution_count": null,
   "metadata": {
    "deletable": false,
    "editable": false,
    "id": "E_EUXxurfe8m",
    "scrolled": false
   },
   "outputs": [],
   "source": [
    "# Plot the total point history along with the moving average\n",
    "utils.plot_history(total_point_history)"
   ]
  },
  {
   "cell_type": "markdown",
   "metadata": {
    "id": "c_xwgaX5MnYt"
   },
   "source": [
    "<a name=\"10\"></a>\n",
    "## 10 - See the Trained Agent In Action\n",
    "\n",
    "Now that we have trained our agent, we can see it in action. We will use the `utils.create_video` function to create a video of our agent interacting with the environment using the trained $Q$-Network. The `utils.create_video` function uses the `imageio` library to create the video. This library produces some warnings that can be distracting, so, to suppress these warnings we run the code below."
   ]
  },
  {
   "cell_type": "code",
   "execution_count": 17,
   "metadata": {
    "deletable": false,
    "editable": false
   },
   "outputs": [],
   "source": [
    "# Suppress warnings from imageio\n",
    "import logging\n",
    "logging.getLogger().setLevel(logging.ERROR)"
   ]
  },
  {
   "cell_type": "markdown",
   "metadata": {},
   "source": [
    "In the cell below we create a video of our agent interacting with the Lunar Lander environment using the trained `q_network`. The video is saved to the `videos` folder with the given `filename`. We use the `utils.embed_mp4` function to embed the video in the Jupyter Notebook so that we can see it here directly without having to download it.\n",
    "\n",
    "We should note that since the lunar lander starts with a random initial force applied to its center of mass, every time you run the cell below you will see a different video. If the agent was trained properly, it should be able to land the lunar lander in the landing pad every time, regardless of the initial force applied to its center of mass."
   ]
  },
  {
   "cell_type": "code",
   "execution_count": 18,
   "metadata": {
    "deletable": false,
    "editable": false,
    "id": "3Ttb_zLeJKiG"
   },
   "outputs": [
    {
     "data": {
      "text/html": [
       "\n",
       "    <video width=\"840\" height=\"480\" controls>\n",
       "    <source src=\"data:video/mp4;base64,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\" type=\"video/mp4\">\n",
       "    Your browser does not support the video tag.\n",
       "    </video>"
      ],
      "text/plain": [
       "<IPython.core.display.HTML object>"
      ]
     },
     "execution_count": 18,
     "metadata": {},
     "output_type": "execute_result"
    }
   ],
   "source": [
    "filename = \"./videos/lunar_lander.mp4\"\n",
    "\n",
    "utils.create_video(filename, env, q_network)\n",
    "utils.embed_mp4(filename)"
   ]
  },
  {
   "cell_type": "markdown",
   "metadata": {},
   "source": [
    "<a name=\"11\"></a>\n",
    "## 11 - Congratulations!\n",
    "\n",
    "You have successfully used Deep Q-Learning with Experience Replay to train an agent to land a lunar lander safely on a landing pad on the surface of the moon. Congratulations!"
   ]
  },
  {
   "cell_type": "markdown",
   "metadata": {},
   "source": [
    "<a name=\"12\"></a>\n",
    "## 12 - References\n",
    "\n",
    "If you would like to learn more about Deep Q-Learning, we recommend you check out the following papers.\n",
    "\n",
    "\n",
    "* Mnih, V., Kavukcuoglu, K., Silver, D. et al. Human-level control through deep reinforcement learning. Nature 518, 529–533 (2015).\n",
    "\n",
    "\n",
    "* Lillicrap, T. P., Hunt, J. J., Pritzel, A., et al. Continuous Control with Deep Reinforcement Learning. ICLR (2016).\n",
    "\n",
    "\n",
    "* Mnih, V., Kavukcuoglu, K., Silver, D. et al. Playing Atari with Deep Reinforcement Learning. arXiv e-prints.  arXiv:1312.5602 (2013)."
   ]
  },
  {
   "cell_type": "markdown",
   "metadata": {},
   "source": [
    "<details>\n",
    "  <summary><font size=\"2\" color=\"darkgreen\"><b>Please click here if you want to experiment with any of the non-graded code.</b></font></summary>\n",
    "    <p><i><b>Important Note: Please only do this when you've already passed the assignment to avoid problems with the autograder.</b></i>\n",
    "    <ol>\n",
    "        <li> On the notebook’s menu, click “View” > “Cell Toolbar” > “Edit Metadata”</li>\n",
    "        <li> Hit the “Edit Metadata” button next to the code cell which you want to lock/unlock</li>\n",
    "        <li> Set the attribute value for “editable” to:\n",
    "            <ul>\n",
    "                <li> “true” if you want to unlock it </li>\n",
    "                <li> “false” if you want to lock it </li>\n",
    "            </ul>\n",
    "        </li>\n",
    "        <li> On the notebook’s menu, click “View” > “Cell Toolbar” > “None” </li>\n",
    "    </ol>\n",
    "    <p> Here's a short demo of how to do the steps above: \n",
    "        <br>\n",
    "        <img src=\"https://lh3.google.com/u/0/d/14Xy_Mb17CZVgzVAgq7NCjMVBvSae3xO1\" align=\"center\" alt=\"unlock_cells.gif\">\n",
    "</details>"
   ]
  }
 ],
 "metadata": {
  "accelerator": "GPU",
  "colab": {
   "collapsed_sections": [],
   "name": "TensorFlow - Lunar Lander.ipynb",
   "provenance": []
  },
  "kernelspec": {
   "display_name": "Python 3",
   "language": "python",
   "name": "python3"
  },
  "language_info": {
   "codemirror_mode": {
    "name": "ipython",
    "version": 3
   },
   "file_extension": ".py",
   "mimetype": "text/x-python",
   "name": "python",
   "nbconvert_exporter": "python",
   "pygments_lexer": "ipython3",
   "version": "3.7.6"
  }
 },
 "nbformat": 4,
 "nbformat_minor": 1
}
